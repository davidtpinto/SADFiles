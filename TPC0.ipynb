{
  "nbformat": 4,
  "nbformat_minor": 0,
  "metadata": {
    "colab": {
      "name": "Untitled0.ipynb",
      "version": "0.3.2",
      "provenance": [],
      "collapsed_sections": []
    },
    "kernelspec": {
      "name": "python3",
      "display_name": "Python 3"
    }
  },
  "cells": [
    {
      "metadata": {
        "id": "KBeczbkfbC4I",
        "colab_type": "text"
      },
      "cell_type": "markdown",
      "source": [
        "##TPC 0##\n",
        "\n",
        "* Pré-validação da String inserida:\n",
        " * Função que verifica se a String é composta apenas pelos seguintes carateres: \"{} , () , []\";\n",
        " * Condição para comprovar que a String é par, se a String for impar é inválida;\n",
        "* Ciclo que percorre todas as posições da String:\n",
        " * Criação de um array onde são adicionados os carateres de abertuda \"{ , ( , [\";\n",
        " * Se for encontrado um dos seguintes carateres \"} , ) , ]\", é verificado se este é o par do último valor inserido no Array; Caso seja, o último carater de abertura é retirado do Array;\n",
        "* Output:\n",
        " * No final do programa, se o valor da variável **valid** for igual a 1, o output será que a String é correta. Caso contrário, a String será considerada incorreta. No caso de a String ter sido considerado incorreta no decorrer do programa, este apresentará imediamente que esta é incorreta ao utilizador e o program terminará."
      ]
    },
    {
      "metadata": {
        "colab_type": "code",
        "outputId": "f15731c0-4ff1-44c6-b97a-f5ef06899ccd",
        "id": "jPtwtuBoa14x",
        "colab": {
          "base_uri": "https://localhost:8080/",
          "height": 68
        }
      },
      "cell_type": "code",
      "source": [
        "def validateString(testString):  \n",
        "  \n",
        "  \n",
        "  arrayAbertos = []\n",
        "  valid = 1\n",
        "  \n",
        "  if validateChar(testString):\n",
        "    \n",
        "    if( len(testString) %2 == 0):\n",
        "      \n",
        "      for j in testString:\n",
        "        \n",
        "        if(j == \"{\" or j == \"(\" or j == \"[\"):\n",
        "          arrayAbertos.append(j)\n",
        "        \n",
        "        if(j == \"}\" or j == \")\" or j == \"]\"):\n",
        "          if( (arrayAbertos[-1] == \"{\" and j == \"}\") or (arrayAbertos[-1] == \"[\" \n",
        "               and j == \"]\") or (arrayAbertos[-1] == \"(\" and j == \")\") ):\n",
        "            \n",
        "            arrayAbertos.pop()\n",
        "          else:\n",
        "            valid = 0\n",
        "            break\n",
        "  \n",
        "    else:\n",
        "      valid = 0\n",
        "      \n",
        "  else:\n",
        "    valid = 0\n",
        "    \n",
        "    \n",
        "    \n",
        "  print(\"String is \" + (\"valid\" if valid == 1 else \"invalid\"))  \n",
        "\n",
        "\n",
        "def validateChar(testString):\n",
        "  \n",
        "  testArray = [\"(\", \"{\", \"[\", \"]\", \"}\",\")\"]\n",
        "  \n",
        "  for k in testString:\n",
        "    if k not in testArray:\n",
        "      return False\n",
        "    \n",
        "  return True\n",
        "    \n",
        "  \n",
        "  \n",
        "  \n",
        "validateString(\"{([])()}[({})]\") \n",
        "validateString(\"{([])()(})[({})]\")\n",
        "validateString(\"{([?])(/)}[({})]\")"
      ],
      "execution_count": 0,
      "outputs": [
        {
          "output_type": "stream",
          "text": [
            "String is valid\n",
            "String is invalid\n",
            "String is invalid\n"
          ],
          "name": "stdout"
        }
      ]
    }
  ]
}