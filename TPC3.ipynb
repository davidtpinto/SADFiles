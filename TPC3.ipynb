{
  "nbformat": 4,
  "nbformat_minor": 0,
  "metadata": {
    "colab": {
      "name": "TPC3.ipynb",
      "version": "0.3.2",
      "provenance": [],
      "collapsed_sections": []
    },
    "kernelspec": {
      "display_name": "SADenv",
      "language": "python",
      "name": "sadenv"
    }
  },
  "cells": [
    {
      "metadata": {
        "id": "WrK38MLki2gv",
        "colab_type": "text"
      },
      "cell_type": "markdown",
      "source": [
        "\n",
        "# Sistemas de Suporte à Decisão\n",
        "\n",
        "---------------\n",
        "\n",
        "# TPC 2\n",
        "\n",
        "\n",
        "Crie um ficheiro em python para trabalhar o dataset \n",
        "\n",
        "```python \n",
        "    datasets.california_housing\n",
        "```\n",
        "\n",
        "Nesse ficheiro, crie um script (função) por alínea que lhe permita gerar novos datasets a partir do dataset principal, onde tenha usado cada um dos seguintes métodos de pre-processamento: \n",
        "\n",
        "    1) Aggregation\n",
        "    2) Sampling\n",
        "    4) Dimensionality Reduction \n",
        "    5) Feature Subset Selection \n",
        "    6) Feature Creation \n",
        "    7) Discretization and Binarization \n",
        "    8) Attribute Transformation\n",
        "\n",
        "\n",
        "O que é feito em cada caso, é da sua inteira liberdade. \n",
        "\n",
        "\n"
      ]
    },
    {
      "metadata": {
        "id": "00i_lD8HjXB5",
        "colab_type": "code",
        "colab": {}
      },
      "cell_type": "code",
      "source": [
        "from sklearn import datasets\n",
        "import pandas as pd\n",
        "import numpy as np\n",
        "import matplotlib.pyplot as plt\n",
        "\n",
        "data = datasets.california_housing.fetch_california_housing()\n",
        "\n",
        "#Feature Creation\n",
        "new_data = np.concatenate((data.data, data.target.reshape(-1,1)*100000), axis=1)\n",
        "names = data.feature_names + [\"Preços\"]\n",
        "\n",
        "dframe = pd.DataFrame(data=new_data, columns=names)\n",
        "dframe.loc[0:1,[\"MedInc\",\"Preços\"]]\n",
        "\n",
        "#Aggregation\n",
        "key = 5\n",
        "keyArr = [\"MedInc\",\"HouseAge\",\"AveRooms\",\"AveBedrms\",\"Population\",\"Latitude\",\"Longitude\",\"Preços\"]\n",
        "avgValue = np.max(dframe.iloc[:,[key]])\n",
        "print(\"Aggregation\")\n",
        "print(\"The maximum value of \" + keyArr[key] + \" is \" + str(avgValue[0]) +\"\\n\")"
      ],
      "execution_count": 0,
      "outputs": []
    },
    {
      "metadata": {
        "id": "WImEGxfenme4",
        "colab_type": "code",
        "colab": {}
      },
      "cell_type": "code",
      "source": [
        "#Sampling\n",
        "\n",
        "print(\"Sampling\")\n",
        "dframe.sample(5)"
      ],
      "execution_count": 0,
      "outputs": []
    },
    {
      "metadata": {
        "id": "Tmu2pHB4nqej",
        "colab_type": "code",
        "colab": {}
      },
      "cell_type": "code",
      "source": [
        "#Dimensionality Reduction\n",
        "\n",
        "print(\"DR\")\n",
        "dframe.drop(columns=[\"HouseAge\"])"
      ],
      "execution_count": 0,
      "outputs": []
    },
    {
      "metadata": {
        "id": "r5tkRpfnppR-",
        "colab_type": "code",
        "colab": {}
      },
      "cell_type": "code",
      "source": [
        "#Subset Selection\n",
        "dframe.iloc[:10,:3]"
      ],
      "execution_count": 0,
      "outputs": []
    },
    {
      "metadata": {
        "colab_type": "code",
        "id": "h_RgP7dYuzD4",
        "colab": {}
      },
      "cell_type": "code",
      "source": [
        "#Discretization and Binarization\n",
        "\n",
        "pd.concat([dframe, pd.get_dummies(dframe, '', '').astype(bool)], axis=1)[keyArr]"
      ],
      "execution_count": 0,
      "outputs": []
    },
    {
      "metadata": {
        "id": "ZWEOiIFgu3Gq",
        "colab_type": "code",
        "colab": {}
      },
      "cell_type": "code",
      "source": [
        "#Attribute Transformation\n",
        "\n",
        "dframe.transform(lambda x: x/100)"
      ],
      "execution_count": 0,
      "outputs": []
    }
  ]
}