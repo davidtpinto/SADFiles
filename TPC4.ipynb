{
  "nbformat": 4,
  "nbformat_minor": 0,
  "metadata": {
    "colab": {
      "name": "Copy of TPC_4.ipynb",
      "version": "0.3.2",
      "provenance": [],
      "collapsed_sections": []
    },
    "kernelspec": {
      "display_name": "SADenv",
      "language": "python",
      "name": "sadenv"
    }
  },
  "cells": [
    {
      "metadata": {
        "id": "g2WGNmYVjHIl",
        "colab_type": "text"
      },
      "cell_type": "markdown",
      "source": [
        "# SAD - TPC 4\n",
        "\n",
        "### Aplicar Algoritmos\n",
        "\n",
        "----\n",
        "\n",
        "\n",
        "- Usando sklearn correr os métodos Decision Tree, Random Forrest e Naive Bayes para o dataset Digits, definido em baixo;\n",
        "\n",
        "- Usar o training set para executar o treino do modelo;\n",
        "\n",
        "- Comparar o erro obtido em cada método, para o testset e para o training set e expecificar se os valores são os esperados;\n",
        "\n",
        "- Para um dos algoritmos, dar exemplos do test set de instâncias mal bem classificadas (2 de cada);\n",
        "\n",
        "O DataSet de dígitos pode ser carregado assim:"
      ]
    },
    {
      "metadata": {
        "id": "7omWs00wjHIo",
        "colab_type": "code",
        "colab": {}
      },
      "cell_type": "code",
      "source": [
        "# Import datasets, classifiers and performance metrics\n",
        "from sklearn import datasets, model_selection\n",
        "import pandas as pd\n",
        "import numpy as np\n",
        "import matplotlib.pyplot as plt\n",
        "\n",
        "# The digits dataset\n",
        "digits_dataset = datasets.load_digits()\n",
        "[features_train, features_test, classes_train, classes_test] = model_selection.train_test_split(digits_dataset.data, digits_dataset.target, test_size=0.30)\n"
      ],
      "execution_count": 0,
      "outputs": []
    },
    {
      "metadata": {
        "id": "zp3ATQJtEz9a",
        "colab_type": "code",
        "colab": {}
      },
      "cell_type": "code",
      "source": [
        "#Install\n",
        "!python3 -m pip install graphviz\n",
        "!python3 -m pip install pydot\n",
        "!apt-get install graphviz"
      ],
      "execution_count": 0,
      "outputs": []
    },
    {
      "metadata": {
        "id": "CZ60o256n2Oh",
        "colab_type": "code",
        "colab": {}
      },
      "cell_type": "code",
      "source": [
        "#Decision tree not working\n",
        "from sklearn import tree\n",
        "\n",
        "model = tree.DecisionTreeClassifier()\n",
        "\n",
        "trained_model = model.fit(features_train, classes_train)\n",
        "\n",
        "score_train = model.score(features_train, classes_train)\n",
        "score_test = model.score(features_test, classes_test)\n",
        "\n",
        "print(\"score_train:\", score_train)\n",
        "print(\"score_test:\", score_test)"
      ],
      "execution_count": 0,
      "outputs": []
    },
    {
      "metadata": {
        "id": "ZZlZzH49n5BG",
        "colab_type": "code",
        "outputId": "3d3e3d1b-0781-4325-fc59-6d949fe5cccf",
        "colab": {
          "base_uri": "https://localhost:8080/",
          "height": 51
        }
      },
      "cell_type": "code",
      "source": [
        "#Random forest\n",
        "from sklearn.ensemble import RandomForestClassifier\n",
        "\n",
        "model = RandomForestClassifier(n_estimators=1000)\n",
        "\n",
        "trained_model = model.fit(features_train, classes_train)\n",
        "\n",
        "score_train = model.score(features_train, classes_train)\n",
        "score_test = model.score(features_test, classes_test)\n",
        "\n",
        "print(\"score_train:\", score_train)\n",
        "print(\"score_test:\", score_test)"
      ],
      "execution_count": 8,
      "outputs": [
        {
          "output_type": "stream",
          "text": [
            "('score_train:', 1.0)\n",
            "('score_test:', 0.9703703703703703)\n"
          ],
          "name": "stdout"
        }
      ]
    },
    {
      "metadata": {
        "id": "8xTPCyYOovNs",
        "colab_type": "code",
        "outputId": "c6860393-f9e8-4c7e-c423-77b71f4b6573",
        "colab": {
          "base_uri": "https://localhost:8080/",
          "height": 51
        }
      },
      "cell_type": "code",
      "source": [
        "#Naive Bayes\n",
        "\n",
        "from sklearn.naive_bayes import GaussianNB\n",
        "\n",
        "gnb = GaussianNB()\n",
        "\n",
        "y_pred = gnb.fit(features_train, classes_train)\n",
        "\n",
        "score_train = gnb.score(features_train, classes_train)\n",
        "score_test = gnb.score(features_test, classes_test)\n",
        "\n",
        "print(\"score_train:\", score_train)\n",
        "print(\"score_test:\", score_test)"
      ],
      "execution_count": 10,
      "outputs": [
        {
          "output_type": "stream",
          "text": [
            "('score_train:', 0.8933969769291965)\n",
            "('score_test:', 0.8518518518518519)\n"
          ],
          "name": "stdout"
        }
      ]
    }
  ]
}